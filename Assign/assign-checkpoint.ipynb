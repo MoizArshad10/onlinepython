{
 "cells": [
  {
   "cell_type": "code",
   "execution_count": 1,
   "id": "11bd144a",
   "metadata": {},
   "outputs": [
    {
     "name": "stdout",
     "output_type": "stream",
     "text": [
      "\n",
      "     Twinkle,twinkle,little star,\n",
      "             How I wonder what you are!\n",
      "                     Up above the world so high,\n",
      "                     Like a diamond in the sky.\n",
      "     Twinkle,twinkle,little star,\n",
      "             How I wonder what you are\n",
      "\n"
     ]
    }
   ],
   "source": [
    "# 1. Write a Python program to print the following string in a specific format (see the output). \n",
    "a='''\n",
    "     Twinkle,twinkle,little star,\n",
    "             How I wonder what you are!\n",
    "                     Up above the world so high,\n",
    "                     Like a diamond in the sky.\n",
    "     Twinkle,twinkle,little star,\n",
    "             How I wonder what you are\n",
    "'''\n",
    "print(a);"
   ]
  },
  {
   "cell_type": "code",
   "execution_count": 2,
   "id": "1b54051f",
   "metadata": {},
   "outputs": [
    {
     "name": "stdout",
     "output_type": "stream",
     "text": [
      "print python version\n",
      "3.8.8 (default, Apr 13 2021, 15:08:03) [MSC v.1916 64 bit (AMD64)]\n",
      "python info\n",
      "sys.version_info(major=3, minor=8, micro=8, releaselevel='final', serial=0)\n"
     ]
    }
   ],
   "source": [
    "# 2. Write a Python program to get the Python version you are using \n",
    "import sys;\n",
    "print(\"print python version\");\n",
    "print(sys.version);\n",
    "print(\"python info\");\n",
    "print(sys.version_info);"
   ]
  },
  {
   "cell_type": "code",
   "execution_count": 3,
   "id": "5eee5b56",
   "metadata": {},
   "outputs": [
    {
     "name": "stdout",
     "output_type": "stream",
     "text": [
      "10/23/21:12:59:30:Saturday\n"
     ]
    }
   ],
   "source": [
    "# 3. Write a Python program to display the current date and time.\n",
    "import datetime;\n",
    "TodayDate=datetime.datetime.now();\n",
    "formattedDate=TodayDate.strftime(\"%D:%H:%M:%S:%A\");\n",
    "print(formattedDate)"
   ]
  },
  {
   "cell_type": "code",
   "execution_count": 7,
   "id": "e4d69697",
   "metadata": {},
   "outputs": [
    {
     "name": "stdout",
     "output_type": "stream",
     "text": [
      "Enter the radius of a circle : 10\n",
      "Area of the circle is :314.1592653589793\n"
     ]
    }
   ],
   "source": [
    "# 4. Write a Python program which accepts the radius of a circle from the user and compute the area.\n",
    "import math\n",
    "radius=float(input(\"Enter the radius of a circle : \"));\n",
    "area =math.pi * radius * radius;\n",
    "print(\"Area of the circle is :{0}\".format(area));"
   ]
  },
  {
   "cell_type": "code",
   "execution_count": 8,
   "id": "a4013dd3",
   "metadata": {},
   "outputs": [
    {
     "name": "stdout",
     "output_type": "stream",
     "text": [
      "Enter Your First Name Harry\n",
      "Enter Your Last Name Potter\n",
      "yrraH rettoP\n"
     ]
    }
   ],
   "source": [
    "# 5. Write a Python program which accepts the user's first and last name and print them in reverse order with a space btw them.\n",
    "fname=input(\"Enter Your First Name \")[::-1];\n",
    "lname=input(\"Enter Your Last Name \")[::-1];\n",
    "print(fname,lname)"
   ]
  },
  {
   "cell_type": "code",
   "execution_count": 9,
   "id": "913c89bc",
   "metadata": {},
   "outputs": [
    {
     "name": "stdout",
     "output_type": "stream",
     "text": [
      "Enter your first value :12\n",
      "Enter your last value :14\n",
      "Your value is :  26\n"
     ]
    }
   ],
   "source": [
    "# 6. Write a python program which takes two inputs from user and print them addition\n",
    "a=int(input(\"Enter your first value :\"));\n",
    "b=int(input(\"Enter your last value :\"));\n",
    "print(\"Your value is : \",a+b);"
   ]
  },
  {
   "cell_type": "code",
   "execution_count": 10,
   "id": "6cb5488b",
   "metadata": {},
   "outputs": [
    {
     "name": "stdout",
     "output_type": "stream",
     "text": [
      "Enter Your English Marks : 90\n",
      "Enter Your Islamiat Marks : 89\n",
      "Enter your Physics Marks : 76\n",
      "Enter your Maths Marks : 68\n",
      "Enter You Urdu Marks : 87\n",
      "Your Grade is A+\n"
     ]
    }
   ],
   "source": [
    "# 7. Write a program which takes 5 inputs from user for different subject’s marks,totalit and generate mark sheet using grades?\n",
    "English=int(input(\"Enter Your English Marks : \"));\n",
    "Islamiat=int(input(\"Enter Your Islamiat Marks : \"));\n",
    "Physics=int(input(\"Enter your Physics Marks : \"));\n",
    "Maths=int(input(\"Enter your Maths Marks : \"));\n",
    "Urdu=int(input(\"Enter You Urdu Marks : \"));\n",
    "Total=English+Islamiat+Physics+Maths+Urdu;\n",
    "Average=Total/5;\n",
    "if Average >=90 and Average <=100:\n",
    "    print(\"Your Grade is A+1\");\n",
    "elif Average >=80 and Average <=90:\n",
    "    print(\"Your Grade is A+\");\n",
    "elif Average >=70 and Average <=80:\n",
    "    print(\"Your Grade is A\");\n",
    "elif Average >=60 and Average <=70:\n",
    "    print(\"Your Grade is B\");\n",
    "elif Average >=50 and Average <=60:\n",
    "    print(\"Your Grade is C\");\n",
    "elif Average >=40 and Average <=50:\n",
    "    print(\"Your Grade is D\");\n",
    "elif Average >=33 and Average <=40:\n",
    "    print(\"Your Grade is E\");\n",
    "elif Average <=32:\n",
    "    print(\"You are Fail\");\n",
    "else:\n",
    "    print(\"Invalid Marks!\");"
   ]
  },
  {
   "cell_type": "code",
   "execution_count": 11,
   "id": "5ea49ad6",
   "metadata": {},
   "outputs": [
    {
     "name": "stdout",
     "output_type": "stream",
     "text": [
      "Enter your number18\n",
      "18 is an Even Number\n"
     ]
    }
   ],
   "source": [
    "# 8. Write a program which take input from user and identify that the given number is even or odd?\n",
    "num=int(input(\"Enter your number\"));\n",
    "remainder=num%2;\n",
    "if remainder == 0:\n",
    "    print(num,\"is an Even Number\");\n",
    "else:\n",
    "    print(num, \"is an Odd Number\");"
   ]
  },
  {
   "cell_type": "code",
   "execution_count": 12,
   "id": "d9c446a3",
   "metadata": {},
   "outputs": [
    {
     "name": "stdout",
     "output_type": "stream",
     "text": [
      "[1, 1, 2, 3, 5, 8, 13, 21, 34, 55, 89]\n",
      "The length of a list is : 11\n"
     ]
    }
   ],
   "source": [
    "# 9. Write a program which print the length of the list? \n",
    "a = [1, 1, 2, 3, 5, 8, 13, 21, 34, 55, 89] ;\n",
    "print(a)\n",
    "print(\"The length of a list is :\",len(a));"
   ]
  },
  {
   "cell_type": "code",
   "execution_count": 13,
   "id": "2d271f4a",
   "metadata": {},
   "outputs": [
    {
     "name": "stdout",
     "output_type": "stream",
     "text": [
      "The sum of list is :  232\n"
     ]
    }
   ],
   "source": [
    "# 10.Write a Python program to sum all the numeric items in a list?\n",
    "a = [1, 1, 2, 3, 5, 8, 13, 21, 34, 55, 89] ;\n",
    "total=sum(a);\n",
    "print(\"The sum of list is : \",total);"
   ]
  },
  {
   "cell_type": "code",
   "execution_count": 14,
   "id": "00c60007",
   "metadata": {},
   "outputs": [
    {
     "name": "stdout",
     "output_type": "stream",
     "text": [
      "89\n"
     ]
    }
   ],
   "source": [
    "# 11.Write a Python program to get the largest number from a numeric list.\n",
    "a = [1, 1, 2, 3, 5, 8, 13, 21, 34, 55, 89] ;\n",
    "largest_number= max(a);\n",
    "print(largest_number);"
   ]
  },
  {
   "cell_type": "code",
   "execution_count": 15,
   "id": "8edf6311",
   "metadata": {},
   "outputs": [
    {
     "name": "stdout",
     "output_type": "stream",
     "text": [
      "[1, 1, 2, 3]\n"
     ]
    }
   ],
   "source": [
    "# 12 Write a program that prints out all the elements of the list that are less than 5.\n",
    "a = [1, 1, 2, 3, 5, 8, 13, 21, 34, 55, 89] ;\n",
    "print([x for x in a if x<5]);"
   ]
  },
  {
   "cell_type": "code",
   "execution_count": null,
   "id": "ea0c8afe",
   "metadata": {},
   "outputs": [],
   "source": []
  }
 ],
 "metadata": {
  "kernelspec": {
   "display_name": "Python 3",
   "language": "python",
   "name": "python3"
  },
  "language_info": {
   "codemirror_mode": {
    "name": "ipython",
    "version": 3
   },
   "file_extension": ".py",
   "mimetype": "text/x-python",
   "name": "python",
   "nbconvert_exporter": "python",
   "pygments_lexer": "ipython3",
   "version": "3.8.8"
  }
 },
 "nbformat": 4,
 "nbformat_minor": 5
}
